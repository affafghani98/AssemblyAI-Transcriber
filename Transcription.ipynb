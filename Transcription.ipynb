{
  "nbformat": 4,
  "nbformat_minor": 0,
  "metadata": {
    "colab": {
      "provenance": []
    },
    "kernelspec": {
      "name": "python3",
      "display_name": "Python 3"
    },
    "language_info": {
      "name": "python"
    }
  },
  "cells": [
    {
      "cell_type": "code",
      "source": [
        "import requests\n",
        "import time\n",
        "from google.colab import files\n",
        "from IPython.display import Markdown\n",
        "import getpass  # Secure API input\n",
        "md_text = \"\"\"\n",
        "### 🔑 Create your AssemblyAI API key (if not already created)\n",
        "➡️ [**Get your API Key here**](https://www.assemblyai.com)\n",
        "\"\"\"\n",
        "display(Markdown(md_text))\n",
        "# Secure input for API Key\n",
        "api_key = getpass.getpass(\"Enter your AssemblyAI API key: \")\n",
        "\n",
        "# Upload the audio file\n",
        "uploaded = files.upload()\n",
        "file_name = list(uploaded.keys())[0]\n",
        "\n",
        "def transcribe_audio(file_name, api_key):\n",
        "    headers = {'authorization': api_key}\n",
        "    # Upload\n",
        "    with open(file_name, 'rb') as f:\n",
        "        response = requests.post(\"https://api.assemblyai.com/v2/upload\", headers=headers, files={\"file\": f})\n",
        "    if response.status_code != 200:\n",
        "        return \"Error: File upload failed.\"\n",
        "    upload_url = response.json()[\"upload_url\"]\n",
        "# Request transcription\n",
        "    response = requests.post(\"https://api.assemblyai.com/v2/transcript\", headers=headers, json={\"audio_url\": upload_url})\n",
        "    if response.status_code != 200:\n",
        "        return \"Error: Transcription request failed.\"\n",
        "    transcript_id = response.json()[\"id\"]\n",
        "    print(\"🔄 Transcription in progress...\") # Check status\n",
        "    while True:\n",
        "        response = requests.get(f\"https://api.assemblyai.com/v2/transcript/{transcript_id}\", headers=headers)\n",
        "        result = response.json()\n",
        "        if result[\"status\"] == \"completed\":\n",
        "            return result[\"text\"]\n",
        "        elif result[\"status\"] == \"failed\":\n",
        "            return \"Error: Transcription failed.\"\n",
        "        time.sleep(5)\n",
        "\n",
        "print(\"\\n🔊 Transcribing...\")# Transcribe\n",
        "transcription = transcribe_audio(file_name, api_key)\n",
        "print(\"\\n✅ **Transcription Result:**\\n\")\n",
        "print(transcription)\n",
        "# Save Transcripted text to File\n",
        "with open(\"transcription.txt\", \"w\") as f:\n",
        "    f.write(transcription)\n",
        "print(\"\\n💾 Transcription saved as 'transcription.txt'!\")\n"
      ],
      "metadata": {
        "id": "36XqBo3O8BZB"
      },
      "execution_count": null,
      "outputs": []
    }
  ]
}